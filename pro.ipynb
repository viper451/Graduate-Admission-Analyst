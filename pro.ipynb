{
 "cells": [
  {
   "cell_type": "markdown",
   "metadata": {},
   "source": [
    "# Predict Graduate Admissions\n",
    "\n",
    "**Problem Statement**\n",
    "This dataset is created for prediction of Graduate Admissions from an Indian perspective.\n",
    "\n",
    "**Content**\n",
    "The dataset contains several parameters which are considered important during the application for Masters Programs. The parameters included are : \n",
    " \n",
    "1. GRE Scores ( out of 340 ) \n",
    "2. TOEFL Scores ( out of 120 ) \n",
    "3. University Rating ( out of 5 ) \n",
    "4. Statement of Purpose and Letter of Recommendation Strength ( out of 5 ) \n",
    "5. Undergraduate GPA ( out of 10 ) \n",
    "6. Research Experience ( either 0 or 1 ) \n",
    "7. Chance of Admit ( ranging from 0 to 1 ) is the Target Variable\n",
    "\n",
    "**Models**\n",
    "\n",
    "1. Logistic Regression \n",
    "2. Random Forest \n",
    "\n",
    "\n"
   ]
  },
  {
   "cell_type": "markdown",
   "metadata": {},
   "source": [
    "### 1. Load the Data and Analysis of Variables\n"
   ]
  },
  {
   "cell_type": "code",
   "execution_count": null,
   "metadata": {},
   "outputs": [],
   "source": [
    "## Load the Libraries \n",
    "import seaborn as sns\n",
    "import numpy as np\n",
    "from sklearn.linear_model import LinearRegression\n",
    "import pandas as pd"
   ]
  },
  {
   "cell_type": "code",
   "execution_count": null,
   "metadata": {},
   "outputs": [],
   "source": [
    "# Read the Data and check the Column Names to check the Space in the Names\n",
    "df=pd.read_csv(\"Admission_Predict_Ver1.1.csv\")\n",
    "col_names=df.columns.tolist()\n",
    "print(\"Column names:\")\n",
    "print(col_names)\n",
    "print(\"\\nSample Data:\")\n",
    "print(df.head())\n"
   ]
  },
  {
   "cell_type": "code",
   "execution_count": null,
   "metadata": {},
   "outputs": [],
   "source": []
  }
 ],
 "metadata": {
  "language_info": {
   "name": "python"
  },
  "orig_nbformat": 4
 },
 "nbformat": 4,
 "nbformat_minor": 2
}
